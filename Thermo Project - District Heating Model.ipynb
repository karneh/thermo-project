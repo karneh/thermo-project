{
 "cells": [
  {
   "cell_type": "markdown",
   "metadata": {},
   "source": [
    "# District Heating: An Investigation into the Efficiency of a Centralized Heating System\n",
    "#### Thermodynamics, Final Project  |  Karen Hinh, Mads Young\n",
    "District heating is a method of home climate control that should be more utilized in the future due to its energy efficiency and friendliness to more sustainable energy sources. For heat sources, there’s geothermal or water source heat pumps, as well as gas or electric boilers, but for the purposes of this project, we are going to focus on exploring the differences between water source heat pumps and gas / electric boilers.\n",
    "\n",
    "In this project, we will investigate the efficiencies of a small scale district heating network with different heat sources (water source heat pumps and gas / electric boilers) and mediums of heat transfer (liquid water vs steam). If there’s extra time, we would be interested in exploring the efficiency difference between small scale district heating with decentralized heating in houses. \n",
    "\n",
    "To accomplish this, we will build a thermodynamic model of a small scale district heating network with variables such as the amount of heat put in, the initial and final (after heat extraction) temperature of the fluid and pressure differences within the heat pump. We will use the model to compare energy cost, thermodynamic properties, and efficiency of the relevant heating methods to ideally prove the superiority of district heating networks over decentralized heating. This will be done in coolprop.\n",
    "\n",
    "![](final_system_diagram.png)"
   ]
  },
  {
   "cell_type": "code",
   "execution_count": 160,
   "metadata": {},
   "outputs": [],
   "source": [
    "import CoolProp.CoolProp as CP\n",
    "import CoolProp.Plots as CPP\n",
    "import numpy as np\n",
    "import matplotlib.pyplot as plt"
   ]
  },
  {
   "cell_type": "markdown",
   "metadata": {},
   "source": [
    "# Varied Mass Flow Rate (Heat Pump)\n",
    "### Sources\n",
    "- https://www.achrnews.com/articles/92875-the-essentials-of-working-with-r-410a#:~:text=A%20normally%20operating%20R%2D410A,side%20pressure%20of%20130%20psig.\n",
    "- Source for mass flow rate, https://www.iosrjournals.org/iosr-jmce/papers/RDME-Volume4/RDME-34.pdf"
   ]
  },
  {
   "cell_type": "code",
   "execution_count": 297,
   "metadata": {},
   "outputs": [
    {
     "name": "stdout",
     "output_type": "stream",
     "text": [
      "The mass flow rate ranges from: 0.00889 kg/s to 0.01222 kg/s.\n"
     ]
    }
   ],
   "source": [
    "# based off of heat pump cycle in textbook (assumed water outside is 10 C)\n",
    "\n",
    "T1 = 2 + 273.15 # K\n",
    "T2 = 48.88 + 273.15 # K\n",
    "T3 = 30 + 273.15 # K\n",
    "T4 = T1\n",
    "\n",
    "P1 = 896 * 1000 # Pa\n",
    "P2 = 2882 * 1000 # Pa\n",
    "P3 = 200 *1000 # Pa\n",
    "P4 = 700 *1000 # Pa\n",
    "\n",
    "m = np.array([32,44]) / 3600 # kg/s, normal range is 32-44 kg/hr\n",
    "\n",
    "print('The mass flow rate ranges from: ' + str(round(m[0], 5)) + ' kg/s to ' + str(round(m[1], 5)) + ' kg/s.')"
   ]
  },
  {
   "cell_type": "code",
   "execution_count": 298,
   "metadata": {},
   "outputs": [
    {
     "name": "stdout",
     "output_type": "stream",
     "text": [
      "The enthalpy at state 1-4 are: \n",
      "203047.25 J/kg, \n",
      "426390.53 J/kg, \n",
      "462422.68 J/kg, \n",
      "213294.2 J/kg. \n"
     ]
    }
   ],
   "source": [
    "substance = 'R410a'\n",
    "\n",
    "# Enthalpy calculations\n",
    "h1 = CP.PropsSI('H', 'T',T1, 'P',P1, substance) # vapor, J/kg\n",
    "h2 = CP.PropsSI('H', 'T',T2, 'P',P2, substance) # vapor, J/kg\n",
    "h3 = CP.PropsSI('H', 'T',T3, 'P',P3, substance) # liquid, J/kg\n",
    "h4 = 213.2942 * 1000 # vapor-liquid, J/kg\n",
    "\n",
    "print('The enthalpy at state 1-4 are: \\n' \n",
    "      + str(round(h1,2)) + ' J/kg, \\n' + str(round(h2,2)) + ' J/kg, \\n' \n",
    "      + str(round(h3,2)) + ' J/kg, \\n' + str(round(h4,2)) + ' J/kg. ')"
   ]
  },
  {
   "cell_type": "markdown",
   "metadata": {},
   "source": [
    "## Q56 (Qc), Q23 (Qh) and W12 (Win)"
   ]
  },
  {
   "cell_type": "code",
   "execution_count": 299,
   "metadata": {},
   "outputs": [
    {
     "name": "stdout",
     "output_type": "stream",
     "text": [
      "Qc is: -91.08 W to -125.24 W\n",
      "Qh is: -320.29 W to -440.39 W\n",
      "Win is: -1985.27 W to -2729.75 W\n",
      "COP is: 0.16\n"
     ]
    }
   ],
   "source": [
    "Q41 = m * (h1 - h4) # W\n",
    "Q23 = m * (h2 - h3) # W\n",
    "W12 = m * (h1 - h2) # W\n",
    "COP = Q23 / W12 # Qh/Win\n",
    "\n",
    "print('Qc is: ' + str(round(Q41[0],2)) + ' W to ' + str(round(Q41[1],2)) + ' W')\n",
    "print('Qh is: ' + str(round(Q23[0],2)) + ' W to ' + str(round(Q23[1],2)) + ' W')\n",
    "print('Win is: ' + str(round(W12[0],2)) + ' W to ' + str(round(W12[1],2)) + ' W')\n",
    "print('COP is: ' + str(round(COP[0],2)))"
   ]
  },
  {
   "cell_type": "markdown",
   "metadata": {},
   "source": [
    "## Heat Exchanger\n",
    "Sources:\n",
    "- https://www.engineeringtoolbox.com/arithmetic-logarithmic-mean-temperature-d_436.html\n",
    "- https://www.engineeringtoolbox.com/overall-heat-transfer-coefficient-d_434.html\n",
    "- https://www.engineeringtoolbox.com/heat-transfer-coefficients-exchangers-d_450.html\n",
    "- https://www.pdhonline.com/courses/m371/m371content.pdf"
   ]
  },
  {
   "cell_type": "code",
   "execution_count": 303,
   "metadata": {},
   "outputs": [
    {
     "name": "stdout",
     "output_type": "stream",
     "text": [
      "The change in temp of the water loop is: 2.56147 K to 3.52202 K.\n"
     ]
    }
   ],
   "source": [
    "m_water = 0.03 # kg/s\n",
    "c_water = 4168 # J/kg-C, https://www.bbc.co.uk/bitesize/guides/z2gjtv4/revision/5\n",
    "\n",
    "dT_water = -Q23/(m_water*c_water) # C/s\n",
    "\n",
    "print('The change in temp of the water loop is: ' + str(round(dT_water[0],5)) + ' K to ' + str(round(dT_water[1],5)) + ' K.')"
   ]
  },
  {
   "cell_type": "code",
   "execution_count": 302,
   "metadata": {
    "scrolled": true
   },
   "outputs": [
    {
     "data": {
      "image/png": "[encoded data removed]",
      "text/plain": [
       "<Figure size 432x288 with 3 Axes>"
      ]
     },
     "metadata": {
      "needs_background": "light"
     },
     "output_type": "display_data"
    }
   ],
   "source": [
    "f, (ax1, ax2, ax3) = plt.subplots(3, 1, sharex=True)\n",
    "ax1.plot(m,-Q23)\n",
    "ax2.plot(m,-W12)\n",
    "ax3.plot(m,dT_water)\n",
    "ax1.set_ylabel('Qh (W)')\n",
    "ax2.set_ylabel('Win (W)')\n",
    "ax3.set_ylabel('dT_water (C)')\n",
    "ax3.set_xlabel('Mass Flow Rate (kg/s)')\n",
    "plt.show()"
   ]
  },
  {
   "cell_type": "code",
   "execution_count": null,
   "metadata": {},
   "outputs": [],
   "source": [
    "# # Houses\n",
    "# hot_temp = 50 # C\n",
    "# cold_temp = 50 - dT_water\n",
    "\n",
    "# h1_cold = 50 # C\n",
    "# h2_cold = 40 # C\n",
    "# h3_cold = 30 # C\n",
    "\n",
    "# dT_h1 = hot_temp - h1_cold\n",
    "# dT_h2 = hot_temp - h2_cold\n",
    "# dT_h3 = hot_temp - h3_cold\n",
    "\n",
    "# cold_temp_h = (dT_h1 + dT_h2 + dT_h3) / 3\n",
    "\n",
    "# print(cold_temp, cold_temp_h, dT_h1, dT_h2, dT_h3)"
   ]
  },
  {
   "cell_type": "code",
   "execution_count": 312,
   "metadata": {},
   "outputs": [],
   "source": [
    "# # Base Case\n",
    "# hot_temp = 70 # C\n",
    "\n",
    "# dT_h1 = -20 # C\n",
    "\n",
    "# T1 = hot_temp + dT_h1\n",
    "\n",
    "# r_pipe = 0.04 # m\n",
    "# h_pipe = 20 # m --> modify length of pipes, add heat losses\n",
    "# k = .005  # W/m*K heat loss coefficient\n",
    "# soiltemp = 35 #C\n",
    "# hl = h_pipe * k * (hot_temp+T1 - 2*soiltemp) #W, watts lost --> from a paper\n",
    "# heatloss = hl / c_water # W / J/kg-C --> K/W, thermal resistance\n",
    "\n",
    "# v_water = 3.1415 * r_pipe**2 * h_pipe # m3\n",
    "# rho = 997 # kg/m3\n",
    "# m = v_water * rho\n",
    "\n",
    "# cold_temp = (T1) - heatloss # C\n",
    "\n",
    "# cold_temp\n",
    "\n",
    "# print(hot_temp, cold_temp)"
   ]
  },
  {
   "cell_type": "markdown",
   "metadata": {},
   "source": [
    "## Varied Head Demand from Houses"
   ]
  },
  {
   "cell_type": "code",
   "execution_count": 220,
   "metadata": {},
   "outputs": [
    {
     "name": "stdout",
     "output_type": "stream",
     "text": [
      "The mass flow rate ranges from: 0.00278 kg/s to 0.02778 kg/s.\n"
     ]
    }
   ],
   "source": [
    "# based off of heat pump cycle in textbook (assumed water outside is 10 C)\n",
    "\n",
    "T1 = 2 + 273.15 # K\n",
    "T2 = 48.88 + 273.15 # K\n",
    "T3 = 30 + 273.15 # K\n",
    "T4 = T1\n",
    "\n",
    "P1 = 896 * 1000 # Pa\n",
    "P2 = 2882 * 1000 # Pa\n",
    "P3 = 200 *1000 # Pa\n",
    "P4 = 700 *1000 # Pa\n",
    "\n",
    "m = np.array([10,100]) / 3600 # kg/s, normal range is 32-44 kg/hr\n",
    "\n",
    "print('The mass flow rate ranges from: ' + str(round(m[0], 5)) + ' kg/s to ' + str(round(m[1], 5)) + ' kg/s.')"
   ]
  },
  {
   "cell_type": "code",
   "execution_count": 221,
   "metadata": {},
   "outputs": [
    {
     "name": "stdout",
     "output_type": "stream",
     "text": [
      "Qc is: -28.46 W to -284.64 W\n",
      "Qh is: -100.09 W to -1000.89 W\n",
      "Win is: -620.4 W to -6203.98 W\n",
      "COP is: 0.16\n"
     ]
    }
   ],
   "source": [
    "Q41 = m * (h1 - h4) # W\n",
    "Q23 = m * (h2 - h3) # W\n",
    "W12 = m * (h1 - h2) # W\n",
    "COP = Q23 / W12 # Qh/Win\n",
    "\n",
    "print('Qc is: ' + str(round(Q41[0],2)) + ' W to ' + str(round(Q41[1],2)) + ' W')\n",
    "print('Qh is: ' + str(round(Q23[0],2)) + ' W to ' + str(round(Q23[1],2)) + ' W')\n",
    "print('Win is: ' + str(round(W12[0],2)) + ' W to ' + str(round(W12[1],2)) + ' W')\n",
    "print('COP is: ' + str(round(COP[0],2)))"
   ]
  },
  {
   "cell_type": "code",
   "execution_count": 222,
   "metadata": {},
   "outputs": [
    {
     "name": "stdout",
     "output_type": "stream",
     "text": [
      "The change in temp over time ranges from: -0.25022 K to -2.50223 K.\n"
     ]
    }
   ],
   "source": [
    "h = 400 # W/m2-K, cooling of water by air --> compare to stainless steel / wall thickness (thermal conductivity)\n",
    "A = 1 # m2, random assumption\n",
    "\n",
    "LMT = Q23 / (h*A) # K, typical range: 1-10 K for LMT\n",
    "\n",
    "print('The change in temp over time ranges from: ' + str(round(LMT[0],5)) + ' K to ' + str(round(LMT[1],5)) + ' K.')"
   ]
  },
  {
   "cell_type": "code",
   "execution_count": 280,
   "metadata": {},
   "outputs": [
    {
     "data": {
      "text/plain": [
       "array([ 6.76971778, 33.84858889])"
      ]
     },
     "execution_count": 280,
     "metadata": {},
     "output_type": "execute_result"
    }
   ],
   "source": [
    "# Houses\n",
    "# hot_temp = 70 # C\n",
    "\n",
    "# Q = h*A*dT\n",
    "# Q = m*c*dT\n",
    "\n",
    "v_air = 10**3 # m3, volume of room\n",
    "rho_air = 1.2041 # kg/m3\n",
    "m_air = v_air * rho_air # kg\n",
    "c_air = 1.012 * 1000 # J/kg-K\n",
    "h = 800 # W/m2-K, cooling of water by air --> compare to stainless steel / wall thickness (thermal conductivity)\n",
    "A = 0.25 # m2, random assumption\n",
    "\n",
    "# Different houses\n",
    "dT_house1 = np.array([1,5])/900 # C/s\n",
    "Q_req1 = m_air*c_air*dT_house1 # W\n",
    "\n",
    "dT_house2 = np.array([1,5])/900 # C/s\n",
    "Q_req2 = m_air*c_air*dT_house2 # W\n",
    "\n",
    "# Solve for dT\n",
    "dT_1 = Q_req1 / (h*A) #  K/s\n",
    "\n",
    "# dT_h1 = -39 # C\n",
    "# dT_h2 = -39 # C\n",
    "# dT_h3 = -39 # C\n",
    "\n",
    "# T1 = hot_temp + dT_h1\n",
    "# T2 = hot_temp + dT_h2\n",
    "# T3 = hot_temp + dT_h3\n",
    "\n",
    "# r_pipe = 0.04 # m\n",
    "# h_pipe = 30 # m --> modify length of pipes, add heat losses\n",
    "\n",
    "# v_water = 3.1415 * r_pipe**2 * h_pipe # m3\n",
    "# rho = 997 # kg/m3\n",
    "# m = v_water * rho\n",
    "\n",
    "# cold_temp = (m*T1 + m*T2 + m*T3) / (3*m) # C\n",
    "\n",
    "# cold_temp\n",
    "dT"
   ]
  }
 ],
 "metadata": {
  "kernelspec": {
   "display_name": "Python 3",
   "language": "python",
   "name": "python3"
  },
  "language_info": {
   "codemirror_mode": {
    "name": "ipython",
    "version": 3
   },
   "file_extension": ".py",
   "mimetype": "text/x-python",
   "name": "python",
   "nbconvert_exporter": "python",
   "pygments_lexer": "ipython3",
   "version": "3.8.5"
  }
 },
 "nbformat": 4,
 "nbformat_minor": 4
}
