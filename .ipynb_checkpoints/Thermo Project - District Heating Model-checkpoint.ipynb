{
 "cells": [
  {
   "cell_type": "markdown",
   "metadata": {},
   "source": [
    "# District Heating: An Investigation into the Efficiency of a Centralized Heating System\n",
    "#### Thermodynamics, Final Project  |  Karen Hinh, Mads Young\n",
    "District heating is a method of home climate control that should be more utilized in the future due to its energy efficiency and friendliness to more sustainable energy sources. For heat sources, there’s geothermal or water source heat pumps, as well as gas or electric boilers, but for the purposes of this project, we are going to focus on exploring the differences between water source heat pumps and gas / electric boilers.\n",
    "\n",
    "In this project, we will investigate the efficiencies of a small scale district heating network with different heat sources (water source heat pumps and gas / electric boilers) and mediums of heat transfer (liquid water vs steam). If there’s extra time, we would be interested in exploring the efficiency difference between small scale district heating with decentralized heating in houses. \n",
    "\n",
    "To accomplish this, we will build a thermodynamic model of a small scale district heating network with variables such as the amount of heat put in, the initial and final (after heat extraction) temperature of the fluid and pressure differences within the heat pump. We will use the model to compare energy cost, thermodynamic properties, and efficiency of the relevant heating methods to ideally prove the superiority of district heating networks over decentralized heating. This will be done in coolprop."
   ]
  },
  {
   "cell_type": "code",
   "execution_count": 2,
   "metadata": {},
   "outputs": [],
   "source": [
    "import CoolProp.CoolProp as CP\n",
    "import CoolProp.Plots as CPP\n",
    "import numpy as np\n",
    "import matplotlib.pyplot as plt"
   ]
  },
  {
   "cell_type": "markdown",
   "metadata": {},
   "source": [
    "# Simplified Model\n",
    "\n",
    "![](final_system_diagram.png)"
   ]
  },
  {
   "cell_type": "markdown",
   "metadata": {},
   "source": [
    "## Defining State Variables"
   ]
  },
  {
   "cell_type": "code",
   "execution_count": 3,
   "metadata": {},
   "outputs": [],
   "source": [
    "# source: https://www.achrnews.com/articles/92875-the-essentials-of-working-with-r-410a#:~:text=A%20normally%20operating%20R%2D410A,side%20pressure%20of%20130%20psig.\n",
    "\n",
    "T1 = 2 + 273.15 # K\n",
    "T2 = 48.88 + 273.15 # K\n",
    "T3 = 30 + 273.15 # K\n",
    "T4 = T1\n",
    "\n",
    "P1 = 896 * 1000 # Pa\n",
    "P2 = 2882 * 1000 # Pa\n",
    "P3 = 200 *1000 # Pa\n",
    "P4 = 700 *1000 # Pa\n",
    "\n",
    "# source: source: https://www.iosrjournals.org/iosr-jmce/papers/RDME-Volume4/RDME-34.pdf\n",
    "\n",
    "m = np.array([32,44]) / 3600 # kg/s, varied"
   ]
  },
  {
   "cell_type": "code",
   "execution_count": 4,
   "metadata": {},
   "outputs": [
    {
     "name": "stdout",
     "output_type": "stream",
     "text": [
      "203047.24939138844 426390.5301947168 462422.6793225789 213294.19999999998\n"
     ]
    }
   ],
   "source": [
    "substance = 'R410a'\n",
    "\n",
    "# Enthalpy calculations\n",
    "h1 = CP.PropsSI('H', 'T',T1, 'P',P1, substance) # vapor, J/kg\n",
    "h2 = CP.PropsSI('H', 'T',T2, 'P',P2, substance) # vapor, J/kg\n",
    "h3 = CP.PropsSI('H', 'T',T3, 'P',P3, substance) # liquid, J/kg\n",
    "h4 = 213.2942 * 1000 # vapor-liquid, J/kg\n",
    "\n",
    "print(h1, h2, h3, h4,)"
   ]
  },
  {
   "cell_type": "code",
   "execution_count": 5,
   "metadata": {},
   "outputs": [],
   "source": [
    "# m = 6.8 # kg, of water\n",
    "# c = 1.8 # J/kg-C, of water\n",
    "# deltaT = np.array([5,10]) / 3600 # J, temperature difference between water and refrigerant\n",
    "\n",
    "# T1 = 12.8 + 273.15 # K\n",
    "# T2 = 70 + 273.15 # K\n",
    "# T3 = 60 + 273.15 # K\n",
    "# T4 = 12.8 + 273.15 # K\n",
    "# ##T5 = T1\n",
    "# ##T6 = T1"
   ]
  },
  {
   "cell_type": "code",
   "execution_count": 6,
   "metadata": {},
   "outputs": [],
   "source": [
    "# substance = 'R410a'\n",
    "\n",
    "# # Enthalpy calculations\n",
    "# h1 = CP.PropsSI('H', 'T',T1, 'Q',1, substance) / 1000 # vapor, kJ/kg\n",
    "# h2 = CP.PropsSI('H', 'T',T2, 'Q',1, substance) / 1000 # vapor, kJ/kg\n",
    "# h3 = CP.PropsSI('H', 'T',T3, 'Q',0, substance) / 1000 # liquid, 251.13 kJ/kg\n",
    "# h4 = 205.6184 # vapor-liquid, kJ/kg\n",
    "\n",
    "# print(h1, h2, h3, h4,)"
   ]
  },
  {
   "cell_type": "code",
   "execution_count": 7,
   "metadata": {},
   "outputs": [],
   "source": [
    "# Calculate mass fraction\n",
    "# mg # mass of vapor\n",
    "# mf # mass of liquid\n",
    "# x = mg / (mg + mf)"
   ]
  },
  {
   "cell_type": "markdown",
   "metadata": {},
   "source": [
    "## Q56: Heat Transfer into the Evaporator (Qc)"
   ]
  },
  {
   "cell_type": "code",
   "execution_count": 8,
   "metadata": {},
   "outputs": [
    {
     "data": {
      "text/plain": [
       "array([ -91.08400541, -125.24050744])"
      ]
     },
     "execution_count": 8,
     "metadata": {},
     "output_type": "execute_result"
    }
   ],
   "source": [
    "# Q41 = m*c*deltaT # W\n",
    "Q41 = m * (h1 - h4) # W\n",
    "\n",
    "Q41"
   ]
  },
  {
   "cell_type": "code",
   "execution_count": 9,
   "metadata": {},
   "outputs": [],
   "source": [
    "# m_flowrate = Q41 / (h1 - h4) # kg/s\n",
    "\n",
    "# m_flowrate"
   ]
  },
  {
   "cell_type": "markdown",
   "metadata": {},
   "source": [
    "## Q23: Heat Transfer out of the Condensor (Qh)"
   ]
  },
  {
   "cell_type": "code",
   "execution_count": 10,
   "metadata": {},
   "outputs": [
    {
     "data": {
      "text/plain": [
       "array([-320.28577003, -440.39293378])"
      ]
     },
     "execution_count": 10,
     "metadata": {},
     "output_type": "execute_result"
    }
   ],
   "source": [
    "Q23 = m * (h2 - h3) # W\n",
    "\n",
    "Q23"
   ]
  },
  {
   "cell_type": "markdown",
   "metadata": {},
   "source": [
    "## W12: Work into Compressor (Win)"
   ]
  },
  {
   "cell_type": "code",
   "execution_count": 11,
   "metadata": {},
   "outputs": [
    {
     "name": "stdout",
     "output_type": "stream",
     "text": [
      "The work input to this heat pump ranges from: 1985.2736071406966 W to 2729.751209818458 W\n"
     ]
    }
   ],
   "source": [
    "W12 = m * (h1 - h2) # W\n",
    "\n",
    "print('The work input to this heat pump ranges from: ' + str(-W12[0]) + ' W to ' + str(-W12[1]) + ' W')"
   ]
  },
  {
   "cell_type": "markdown",
   "metadata": {},
   "source": [
    "## COP"
   ]
  },
  {
   "cell_type": "code",
   "execution_count": 12,
   "metadata": {},
   "outputs": [
    {
     "name": "stdout",
     "output_type": "stream",
     "text": [
      "The COP of this heat pump cycle is: 0.1613307953490271\n"
     ]
    }
   ],
   "source": [
    "COP = Q23 / W12 # Qh/Win\n",
    "\n",
    "print('The COP of this heat pump cycle is: ' + str(COP[0]))"
   ]
  },
  {
   "cell_type": "markdown",
   "metadata": {},
   "source": [
    "## Heat Exchanger\n",
    "Sources:\n",
    "- https://www.engineeringtoolbox.com/arithmetic-logarithmic-mean-temperature-d_436.html\n",
    "- https://www.engineeringtoolbox.com/overall-heat-transfer-coefficient-d_434.html\n",
    "- https://www.engineeringtoolbox.com/heat-transfer-coefficients-exchangers-d_450.html\n",
    "- https://www.pdhonline.com/courses/m371/m371content.pdf"
   ]
  },
  {
   "cell_type": "code",
   "execution_count": 70,
   "metadata": {},
   "outputs": [
    {
     "name": "stdout",
     "output_type": "stream",
     "text": [
      "The change in temp over time ranges from: 0.8007144250636015 K to 1.100982334462452 K.\n"
     ]
    }
   ],
   "source": [
    "h = 400 # W/m2-K, cooling of water by air --> compare to stainless steel / wall thickness (thermal conductivity)\n",
    "A = 1 # m2, random assumption\n",
    "\n",
    "LMT = -Q23 / (h*A) # K\n",
    "\n",
    "print('The change in temp over time ranges from: ' + str(LMT[0]) + ' K to ' + str(LMT[1]) + ' K.')\n",
    "# typical range: 1-10 K for LMT"
   ]
  },
  {
   "cell_type": "code",
   "execution_count": 71,
   "metadata": {},
   "outputs": [
    {
     "name": "stdout",
     "output_type": "stream",
     "text": [
      "70 40.0 30.0\n"
     ]
    }
   ],
   "source": [
    "# Houses\n",
    "hot_temp = 70 # C\n",
    "\n",
    "dT_h1 = -20 # C\n",
    "dT_h2 = -30 # C\n",
    "dT_h3 = -40 # C\n",
    "\n",
    "T1 = hot_temp + dT_h1\n",
    "T2 = hot_temp + dT_h2\n",
    "T3 = hot_temp + dT_h3\n",
    "\n",
    "r_pipe = 0.04 # m\n",
    "h_pipe = 30 # m\n",
    "\n",
    "v_water = 3.1415 * r_pipe**2 * h_pipe # m3\n",
    "rho = 997 # kg/m3\n",
    "m = v_water * rho\n",
    "\n",
    "cold_temp = (m*T1 + m*T2 + m*T3) / (3*m) # C\n",
    "\n",
    "cold_temp\n",
    "\n",
    "dT_loop = hot_temp - cold_temp\n",
    "\n",
    "print(hot_temp, cold_temp, dT_loop)"
   ]
  },
  {
   "cell_type": "code",
   "execution_count": 85,
   "metadata": {},
   "outputs": [
    {
     "data": {
      "text/plain": [
       "array([-243.09999657, -240.64134264])"
      ]
     },
     "execution_count": 85,
     "metadata": {},
     "output_type": "execute_result"
    }
   ],
   "source": [
    "# LMTD\n",
    "\n",
    "dT_loop = np.array([10.1, 15]) # C\n",
    "\n",
    "tpi = T2 # K primary inlet temp, hot\n",
    "tpo = T3 # K primary outlet temp, cold\n",
    "tso = 10 + 273.15 # K secondary outlet temp, hot\n",
    "tsi = tso-dT_loop # K secondary inlet temp, cold\n",
    "\n",
    "# For counter flow:\n",
    "dt_i = tpi - tso # inlet primary and outlet secondary fluid temp difference\n",
    "dt_o = tpo - tsi # outlet primary and inlet secondary fluid temp difference\n",
    "\n",
    "LMT = (dt_o - dt_i) / (np.log(dt_o / dt_i))\n",
    "\n",
    "LMT"
   ]
  },
  {
   "cell_type": "markdown",
   "metadata": {},
   "source": [
    "## Plot"
   ]
  },
  {
   "cell_type": "code",
   "execution_count": 49,
   "metadata": {},
   "outputs": [
    {
     "data": {
      "image/png": "[encoded data removed]",
      "text/plain": [
       "<Figure size 432x288 with 1 Axes>"
      ]
     },
     "metadata": {
      "needs_background": "light"
     },
     "output_type": "display_data"
    }
   ],
   "source": [
    "plt.plot(m,-W12)\n",
    "plt.xlabel(\"Mass Flow Rate (kg/s)\")\n",
    "plt.ylabel(\"Compressor Work (W)\")\n",
    "plt.show()"
   ]
  }
 ],
 "metadata": {
  "kernelspec": {
   "display_name": "Python 3",
   "language": "python",
   "name": "python3"
  },
  "language_info": {
   "codemirror_mode": {
    "name": "ipython",
    "version": 3
   },
   "file_extension": ".py",
   "mimetype": "text/x-python",
   "name": "python",
   "nbconvert_exporter": "python",
   "pygments_lexer": "ipython3",
   "version": "3.8.5"
  }
 },
 "nbformat": 4,
 "nbformat_minor": 4
}
