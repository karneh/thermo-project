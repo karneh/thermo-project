{
 "cells": [
  {
   "cell_type": "markdown",
   "metadata": {},
   "source": [
    "# District Heating: An Investigation into the Efficiency of a Centralized Heating System\n",
    "#### Thermodynamics, Final Project  |  Karen Hinh, Mads Young\n",
    "District heating is a method of home climate control that should be more utilized in the future due to its energy efficiency and friendliness to more sustainable energy sources. For heat sources, there’s geothermal or water source heat pumps, as well as gas or electric boilers, but for the purposes of this project, we are going to focus on exploring the differences between water source heat pumps and gas / electric boilers.\n",
    "\n",
    "In this project, we will investigate the efficiencies of a small scale district heating network with different heat sources (water source heat pumps and gas / electric boilers) and mediums of heat transfer (liquid water vs steam). If there’s extra time, we would be interested in exploring the efficiency difference between small scale district heating with decentralized heating in houses. \n",
    "\n",
    "To accomplish this, we will build a thermodynamic model of a small scale district heating network with variables such as the amount of heat put in, the initial and final (after heat extraction) temperature of the fluid and pressure differences within the heat pump. We will use the model to compare energy cost, thermodynamic properties, and efficiency of the relevant heating methods to ideally prove the superiority of district heating networks over decentralized heating. This will be done in coolprop."
   ]
  },
  {
   "cell_type": "code",
   "execution_count": 1,
   "metadata": {},
   "outputs": [],
   "source": [
    "import CoolProp.CoolProp as CP\n",
    "import CoolProp.Plots as CPP\n",
    "import numpy as np\n",
    "import matplotlib.pyplot as plt"
   ]
  },
  {
   "cell_type": "markdown",
   "metadata": {},
   "source": [
    "# Simplified Model\n",
    "\n",
    "Simple Diagram          |  System Diagram          | TS Diagram\n",
    ":----------------------:|:------------------------:|:--------------------------:\n",
    "![](simple_diagram.png) |  ![](system_diagram.png) | ![](ts_diagram.jpeg)\n",
    "\n",
    "- Q56 represents the heat transfer _into_ the evaporator.\n",
    "- Q23 represents the heat transfer _out of_ the condensor.\n",
    "- W12 represents the work _into_ the compressor."
   ]
  },
  {
   "cell_type": "markdown",
   "metadata": {},
   "source": [
    "## Defining State Variables"
   ]
  },
  {
   "cell_type": "code",
   "execution_count": 9,
   "metadata": {},
   "outputs": [],
   "source": [
    "m = 65 # kg, of water\n",
    "c = 3470 # J/kg-C, of water\n",
    "deltaT = np.array([1,10]) / 3600 # C/s, \"Qout\" from the house ranges from 1C-10C / hour\n",
    "\n",
    "T1 = 100 + 273.15 # K\n",
    "T2 = 90 + 273.15 # K\n",
    "T3 = 60 + 273.15 # K\n",
    "T4 = 50 + 273.15 # K\n",
    "##T5 = T1\n",
    "##T6 = T1"
   ]
  },
  {
   "cell_type": "code",
   "execution_count": 10,
   "metadata": {},
   "outputs": [
    {
     "name": "stdout",
     "output_type": "stream",
     "text": [
      "2675.5698844194585 2659.5300141957473 251.1803519139721 209.34176132667645\n"
     ]
    }
   ],
   "source": [
    "substance = 'water'\n",
    "\n",
    "# Enthalpy calculations\n",
    "h1 = CP.PropsSI('H', 'T',T1, 'Q',1, substance) / 1000 # vapor --> 2538.1 kJ/kg\n",
    "h2 = CP.PropsSI('H', 'T',T2, 'Q',1, substance) / 1000 # vapor --> 2660.1 kJ/kg\n",
    "h3 = CP.PropsSI('H', 'T',T3, 'Q',0, substance) / 1000 # liquid --> 251.13 kJ/kg\n",
    "h4 = CP.PropsSI('H', 'T',T4, 'Q',0, substance) / 1000 # liquid --> 209.33 kJ/kg\n",
    "##h5 = 2452.1 # kJ/kg, liquid-vapor from textbook\n",
    "##h6 = CP.PropsSI('H', 'T',T6, 'Q',1, substance) / 1000 # vapor --> 2538.1 kJ/kg\n",
    "\n",
    "print(h1, h2, h3, h4,) ##h5, h6"
   ]
  },
  {
   "cell_type": "markdown",
   "metadata": {},
   "source": [
    "## Q56: Heat Transfer into the Evaporator (Qc)"
   ]
  },
  {
   "cell_type": "code",
   "execution_count": 16,
   "metadata": {},
   "outputs": [
    {
     "data": {
      "text/plain": [
       "array([0.06265278, 0.62652778])"
      ]
     },
     "execution_count": 16,
     "metadata": {},
     "output_type": "execute_result"
    }
   ],
   "source": [
    "Q41 = m*c*deltaT / 1000 # kW\n",
    "\n",
    "Q41"
   ]
  },
  {
   "cell_type": "code",
   "execution_count": 17,
   "metadata": {},
   "outputs": [
    {
     "data": {
      "text/plain": [
       "array([2.54042914e-05, 2.54042914e-04])"
      ]
     },
     "execution_count": 17,
     "metadata": {},
     "output_type": "execute_result"
    }
   ],
   "source": [
    "m_flowrate = Q41 / (h1 - h4) # kg/s\n",
    "\n",
    "m_flowrate"
   ]
  },
  {
   "cell_type": "markdown",
   "metadata": {},
   "source": [
    "## Q23: Heat Transfer out of the Condensor (Qh)"
   ]
  },
  {
   "cell_type": "code",
   "execution_count": 18,
   "metadata": {},
   "outputs": [
    {
     "data": {
      "text/plain": [
       "array([0.06118242, 0.61182416])"
      ]
     },
     "execution_count": 18,
     "metadata": {},
     "output_type": "execute_result"
    }
   ],
   "source": [
    "Q23 = m_flowrate * (h2 - h3) # kW\n",
    "\n",
    "Q23"
   ]
  },
  {
   "cell_type": "markdown",
   "metadata": {},
   "source": [
    "## W12: Work into Compressor (Win)"
   ]
  },
  {
   "cell_type": "code",
   "execution_count": 19,
   "metadata": {},
   "outputs": [
    {
     "data": {
      "text/plain": [
       "array([0.00040748, 0.00407482])"
      ]
     },
     "execution_count": 19,
     "metadata": {},
     "output_type": "execute_result"
    }
   ],
   "source": [
    "W12 = m_flowrate * (h1 - h2) # kW\n",
    "\n",
    "W12"
   ]
  },
  {
   "cell_type": "markdown",
   "metadata": {},
   "source": [
    "## COP"
   ]
  },
  {
   "cell_type": "code",
   "execution_count": 20,
   "metadata": {},
   "outputs": [
    {
     "name": "stdout",
     "output_type": "stream",
     "text": [
      "The COP of this heat pump cycle is: 150.14770248711815\n"
     ]
    }
   ],
   "source": [
    "COP = Q23 / W12 # Qh/Win\n",
    "\n",
    "print('The COP of this heat pump cycle is: ' + str(COP[0]))"
   ]
  },
  {
   "cell_type": "code",
   "execution_count": null,
   "metadata": {},
   "outputs": [],
   "source": []
  }
 ],
 "metadata": {
  "kernelspec": {
   "display_name": "Python 3",
   "language": "python",
   "name": "python3"
  },
  "language_info": {
   "codemirror_mode": {
    "name": "ipython",
    "version": 3
   },
   "file_extension": ".py",
   "mimetype": "text/x-python",
   "name": "python",
   "nbconvert_exporter": "python",
   "pygments_lexer": "ipython3",
   "version": "3.6.6"
  }
 },
 "nbformat": 4,
 "nbformat_minor": 4
}
