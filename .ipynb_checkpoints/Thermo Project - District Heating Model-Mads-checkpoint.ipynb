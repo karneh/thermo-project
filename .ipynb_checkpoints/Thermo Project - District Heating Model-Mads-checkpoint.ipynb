{
 "cells": [
  {
   "cell_type": "markdown",
   "metadata": {},
   "source": [
    "# District Heating: An Investigation into the Efficiency of a Centralized Heating System\n",
    "#### Thermodynamics, Final Project  |  Karen Hinh, Mads Young\n",
    "District heating is a method of home climate control that should be more utilized in the future due to its energy efficiency and friendliness to more sustainable energy sources. For heat sources, there’s geothermal or water source heat pumps, as well as gas or electric boilers, but for the purposes of this project, we are going to focus on exploring the differences between water source heat pumps and gas / electric boilers.\n",
    "\n",
    "In this project, we will investigate the efficiencies of a small scale district heating network with different heat sources (water source heat pumps and gas / electric boilers) and mediums of heat transfer (liquid water vs steam). If there’s extra time, we would be interested in exploring the efficiency difference between small scale district heating with decentralized heating in houses. \n",
    "\n",
    "To accomplish this, we will build a thermodynamic model of a small scale district heating network with variables such as the amount of heat put in, the initial and final (after heat extraction) temperature of the fluid and pressure differences within the heat pump. We will use the model to compare energy cost, thermodynamic properties, and efficiency of the relevant heating methods to ideally prove the superiority of district heating networks over decentralized heating. This will be done in coolprop."
   ]
  },
  {
   "cell_type": "code",
   "execution_count": 85,
   "metadata": {},
   "outputs": [],
   "source": [
    "import CoolProp.CoolProp as CP\n",
    "import CoolProp.Plots as CPP\n",
    "import numpy as np\n",
    "import matplotlib.pyplot as plt"
   ]
  },
  {
   "cell_type": "markdown",
   "metadata": {},
   "source": [
    "# Simplified Model\n",
    "\n",
    "![](final_system_diagram.png)"
   ]
  },
  {
   "cell_type": "markdown",
   "metadata": {},
   "source": [
    "## Defining State Variables"
   ]
  },
  {
   "cell_type": "code",
   "execution_count": 86,
   "metadata": {},
   "outputs": [
    {
     "name": "stdout",
     "output_type": "stream",
     "text": [
      "[0.00888889 0.01222222]\n"
     ]
    }
   ],
   "source": [
    "# source: https://www.achrnews.com/articles/92875-the-essentials-of-working-with-r-410a#:~:text=A%20normally%20operating%20R%2D410A,side%20pressure%20of%20130%20psig.\n",
    "\n",
    "T1 = 2 + 273.15 # K\n",
    "T2 = 48.88 + 273.15 # K\n",
    "T3 = 30 + 273.15 # K\n",
    "T4 = T1\n",
    "\n",
    "P1 = 896 * 1000 # Pa\n",
    "P2 = 2882 * 1000 # Pa\n",
    "P3 = 200 *1000 # Pa\n",
    "P4 = 700 *1000 # Pa\n",
    "\n",
    "# source: source: https://www.iosrjournals.org/iosr-jmce/papers/RDME-Volume4/RDME-34.pdf\n",
    "\n",
    "ma = np.array([32,44]) / 3600 # kg/s, varied\n",
    "print(ma)"
   ]
  },
  {
   "cell_type": "code",
   "execution_count": 87,
   "metadata": {},
   "outputs": [
    {
     "name": "stdout",
     "output_type": "stream",
     "text": [
      "203047.24939138844 426390.5301947168 462422.6793225789 213294.19999999998\n"
     ]
    }
   ],
   "source": [
    "substance = 'R410a'\n",
    "\n",
    "# Enthalpy calculations\n",
    "h1 = CP.PropsSI('H', 'T',T1, 'P',P1, substance) # vapor, J/kg\n",
    "h2 = CP.PropsSI('H', 'T',T2, 'P',P2, substance) # vapor, J/kg\n",
    "h3 = CP.PropsSI('H', 'T',T3, 'P',P3, substance) # liquid, J/kg\n",
    "h4 = 213.2942 * 1000 # vapor-liquid, J/kg\n",
    "\n",
    "print(h1, h2, h3, h4,)"
   ]
  },
  {
   "cell_type": "code",
   "execution_count": 88,
   "metadata": {},
   "outputs": [],
   "source": [
    "# m = 6.8 # kg, of water\n",
    "# c = 1.8 # J/kg-C, of water\n",
    "# deltaT = np.array([5,10]) / 3600 # J, temperature difference between water and refrigerant\n",
    "\n",
    "# T1 = 12.8 + 273.15 # K\n",
    "# T2 = 70 + 273.15 # K\n",
    "# T3 = 60 + 273.15 # K\n",
    "# T4 = 12.8 + 273.15 # K\n",
    "# ##T5 = T1\n",
    "# ##T6 = T1"
   ]
  },
  {
   "cell_type": "code",
   "execution_count": 89,
   "metadata": {},
   "outputs": [],
   "source": [
    "# substance = 'R410a'\n",
    "\n",
    "# # Enthalpy calculations\n",
    "# h1 = CP.PropsSI('H', 'T',T1, 'Q',1, substance) / 1000 # vapor, kJ/kg\n",
    "# h2 = CP.PropsSI('H', 'T',T2, 'Q',1, substance) / 1000 # vapor, kJ/kg\n",
    "# h3 = CP.PropsSI('H', 'T',T3, 'Q',0, substance) / 1000 # liquid, 251.13 kJ/kg\n",
    "# h4 = 205.6184 # vapor-liquid, kJ/kg\n",
    "\n",
    "# print(h1, h2, h3, h4,)"
   ]
  },
  {
   "cell_type": "code",
   "execution_count": 90,
   "metadata": {},
   "outputs": [],
   "source": [
    "# Calculate mass fraction\n",
    "# mg # mass of vapor\n",
    "# mf # mass of liquid\n",
    "# x = mg / (mg + mf)"
   ]
  },
  {
   "cell_type": "markdown",
   "metadata": {},
   "source": [
    "## Q56: Heat Transfer into the Evaporator (Qc)"
   ]
  },
  {
   "cell_type": "code",
   "execution_count": 91,
   "metadata": {},
   "outputs": [
    {
     "data": {
      "text/plain": [
       "array([ -91.08400541, -125.24050744])"
      ]
     },
     "execution_count": 91,
     "metadata": {},
     "output_type": "execute_result"
    }
   ],
   "source": [
    "# Q41 = m*c*deltaT # W\n",
    "Q41 = ma * (h1 - h4) # W\n",
    "\n",
    "Q41"
   ]
  },
  {
   "cell_type": "code",
   "execution_count": 92,
   "metadata": {},
   "outputs": [],
   "source": [
    "# m_flowrate = Q41 / (h1 - h4) # kg/s\n",
    "\n",
    "# m_flowrate"
   ]
  },
  {
   "cell_type": "markdown",
   "metadata": {},
   "source": [
    "## Q23: Heat Transfer out of the Condensor (Qh)"
   ]
  },
  {
   "cell_type": "code",
   "execution_count": 93,
   "metadata": {},
   "outputs": [
    {
     "data": {
      "text/plain": [
       "array([-320.28577003, -440.39293378])"
      ]
     },
     "execution_count": 93,
     "metadata": {},
     "output_type": "execute_result"
    }
   ],
   "source": [
    "Q23 = ma * (h2 - h3)  # W\n",
    "\n",
    "Q23"
   ]
  },
  {
   "cell_type": "markdown",
   "metadata": {},
   "source": [
    "## W12: Work into Compressor (Win)"
   ]
  },
  {
   "cell_type": "code",
   "execution_count": 94,
   "metadata": {},
   "outputs": [
    {
     "name": "stdout",
     "output_type": "stream",
     "text": [
      "The work input to this heat pump ranges from: 1985.2736071406966 W to 2729.751209818458 W\n"
     ]
    }
   ],
   "source": [
    "W12 = ma * (h1 - h2) # W\n",
    "\n",
    "print('The work input to this heat pump ranges from: ' + str(-W12[0]) + ' W to ' + str(-W12[1]) + ' W')"
   ]
  },
  {
   "cell_type": "markdown",
   "metadata": {},
   "source": [
    "## COP"
   ]
  },
  {
   "cell_type": "code",
   "execution_count": 95,
   "metadata": {},
   "outputs": [
    {
     "name": "stdout",
     "output_type": "stream",
     "text": [
      "The COP of this heat pump cycle is: 0.1613307953490271\n"
     ]
    }
   ],
   "source": [
    "COP = Q23 / W12 # Qh/Win\n",
    "\n",
    "print('The COP of this heat pump cycle is: ' + str(COP[0]))"
   ]
  },
  {
   "cell_type": "markdown",
   "metadata": {},
   "source": [
    "## Heat Exchanger\n",
    "Sources:\n",
    "- https://www.engineeringtoolbox.com/arithmetic-logarithmic-mean-temperature-d_436.html\n",
    "- https://www.engineeringtoolbox.com/overall-heat-transfer-coefficient-d_434.html\n",
    "- https://www.engineeringtoolbox.com/heat-transfer-coefficients-exchangers-d_450.html\n",
    "- https://www.pdhonline.com/courses/m371/m371content.pdf"
   ]
  },
  {
   "cell_type": "code",
   "execution_count": 96,
   "metadata": {},
   "outputs": [
    {
     "data": {
      "text/plain": [
       "array([8.61189033, 8.61189033])"
      ]
     },
     "execution_count": 96,
     "metadata": {},
     "output_type": "execute_result"
    }
   ],
   "source": [
    "## h = 400 # W/m2-K, cooling of water by air --> compare to stainless steel / wall thickness (thermal conductivity)\n",
    "## A = 1 # m2, random assumption\n",
    "\n",
    "## LMT = Q23 / (h*A) # K\n",
    "r_pipe = 0.04 # m\n",
    "h_pipe = 1 # m --> modify length of pipes, add heat losses\n",
    "v_water = 3.1415 * r_pipe**2 * h_pipe # m3\n",
    "rho = 997 # kg/m3\n",
    "m_water = v_water * rho\n",
    "c_water = 4184 # J/KgK\n",
    "\n",
    "dT_water = -Q23 / (ma * c_water) # Q23 is negative because it is entering the water\n",
    "\n",
    "# typical range: 1-10 K for LMT\n",
    "\n",
    "dT_water"
   ]
  },
  {
   "cell_type": "markdown",
   "metadata": {},
   "source": [
    "# LMTD\n",
    "\n",
    "dT_loop = np.array([39.9999999999, 39.9999999]) # C\n",
    "T2 = 48.88 + 273.15 # K\n",
    "T3 = 30 + 273.15 # K\n",
    "\n",
    "tpi = T2 # K primary inlet temp, hot, 48 C\n",
    "tpo = T3 # K primary outlet temp, cold, 30 C\n",
    "tso = 70 + 273.15 # K secondary outlet temp, hot\n",
    "tsi = tso-dT_loop # K secondary inlet temp, cold\n",
    "\n",
    "# For counter flow:\n",
    "dt_i = tpi - tso # inlet primary and outlet secondary fluid temp difference -- 48-50 = -2\n",
    "dt_o = tpo - tsi # outlet primary and inlet secondary fluid temp difference -- 30-(30/25) = 0 or 5\n",
    "\n",
    "LMT = (dt_o - dt_i) / (np.log(dt_o / dt_i))\n",
    "\n",
    "print(LMT)"
   ]
  },
  {
   "cell_type": "markdown",
   "metadata": {},
   "source": [
    "## Plot"
   ]
  },
  {
   "cell_type": "code",
   "execution_count": 97,
   "metadata": {
    "scrolled": false
   },
   "outputs": [
    {
     "data": {
      "image/png": "[encoded data removed]",
      "text/plain": [
       "<Figure size 432x288 with 1 Axes>"
      ]
     },
     "metadata": {
      "needs_background": "light"
     },
     "output_type": "display_data"
    }
   ],
   "source": [
    "plt.plot(ma, -W12)\n",
    "plt.xlabel(\"Mass Flow Rate (kg/s)\")\n",
    "plt.ylabel(\"Compressor Work (W)\")\n",
    "plt.show()"
   ]
  },
  {
   "cell_type": "markdown",
   "metadata": {},
   "source": [
    "### Modified LMT with variables"
   ]
  },
  {
   "cell_type": "code",
   "execution_count": 147,
   "metadata": {},
   "outputs": [
    {
     "name": "stdout",
     "output_type": "stream",
     "text": [
      "70 [61.38664246 61.38664246]\n"
     ]
    }
   ],
   "source": [
    "# Base Case\n",
    "hot_temp = 70 # C\n",
    "\n",
    "T1 = hot_temp - dT_water\n",
    "\n",
    "r_pipe = 0.04 # m\n",
    "h_pipe = 20 # m --> modify length of pipes, add heat losses\n",
    "k = .005  # W/m*K heat loss coefficient\n",
    "soiltemp = 35 #C\n",
    "hl = h_pipe * k * ((hot_temp+273.15) + (T1+273.15) - 2*(soiltemp+273.15)) #W, watts lost\n",
    "heatloss = hl / c_water\n",
    "\n",
    "v_water = 3.1415 * r_pipe**2 * h_pipe # m3\n",
    "rho = 997 # kg/m3\n",
    "m_water = v_water * rho\n",
    "\n",
    "cold_temp = (T1) - heatloss # C\n",
    "\n",
    "cold_temp\n",
    "\n",
    "print(hot_temp, cold_temp)"
   ]
  },
  {
   "cell_type": "code",
   "execution_count": 148,
   "metadata": {},
   "outputs": [
    {
     "name": "stdout",
     "output_type": "stream",
     "text": [
      "[-25.91526675 -25.91526675]\n"
     ]
    }
   ],
   "source": [
    "T2 = 48.88 + 273.15 # K\n",
    "T3 = 30 + 273.15 # K\n",
    "\n",
    "tpi = T2 # K primary inlet temp, hot, 48 C\n",
    "tpo = T3 # K primary outlet temp, cold, 30 C\n",
    "tso = hot_temp + 273.15 # K secondary outlet temp, hot\n",
    "tsi = cold_temp + 273.15 # K secondary inlet temp, cold\n",
    "\n",
    "# For counter flow:\n",
    "dt_i = tpi - tso # inlet primary and outlet secondary fluid temp difference -- 48-50 = -2\n",
    "dt_o = tpo - tsi # outlet primary and inlet secondary fluid temp difference -- 30-(30/25) = 0 or 5\n",
    "\n",
    "LMT = (dt_o - dt_i) / (np.log(dt_o / dt_i))\n",
    "\n",
    "print(LMT)"
   ]
  },
  {
   "cell_type": "code",
   "execution_count": 149,
   "metadata": {},
   "outputs": [
    {
     "name": "stdout",
     "output_type": "stream",
     "text": [
      "[8.61335754 8.61335754]\n"
     ]
    }
   ],
   "source": [
    "dt_loop =  hot_temp - cold_temp\n",
    "print(dt_loop)\n",
    "Q = 0.03 * c_water * dt_loop"
   ]
  },
  {
   "cell_type": "code",
   "execution_count": 150,
   "metadata": {
    "scrolled": true
   },
   "outputs": [
    {
     "data": {
      "image/png": "[encoded data removed]",
      "text/plain": [
       "<Figure size 432x288 with 1 Axes>"
      ]
     },
     "metadata": {
      "needs_background": "light"
     },
     "output_type": "display_data"
    }
   ],
   "source": [
    "plt.plot(cold_temp, Q,color='green', marker='o')\n",
    "plt.xlabel(\"cold_temp (C)\")\n",
    "plt.ylabel(\"Q (J)\")\n",
    "plt.title(\"Work Required, no variation\")\n",
    "plt.show()"
   ]
  },
  {
   "cell_type": "code",
   "execution_count": 132,
   "metadata": {},
   "outputs": [
    {
     "name": "stdout",
     "output_type": "stream",
     "text": [
      "70 [39.99904031 59.99856046]\n"
     ]
    }
   ],
   "source": [
    "# House Heat Demand\n",
    "hot_temp = 70 # C\n",
    "\n",
    "dT_h1 = np.array([-30, -10]) # C\n",
    "dT_h2 = np.array([-30, -10]) # C\n",
    "dT_h3 = np.array([-30, -10]) # C\n",
    "\n",
    "T1 = hot_temp + dT_h1\n",
    "T2 = hot_temp + dT_h2\n",
    "T3 = hot_temp + dT_h3\n",
    "\n",
    "r_pipe = 0.04 # m\n",
    "h_pipe = 20 # m --> modify length of pipes, add heat losses\n",
    "k = .005  # W/m*K heat loss coefficient\n",
    "soiltemp = 35 #C\n",
    "hl = h_pipe * k * ((hot_temp+273.15) + (T1+273.15) - 2*(soiltemp+273.15)) #W, watts lost\n",
    "heatloss = hl / 4168\n",
    "\n",
    "v_water = 3.1415 * r_pipe**2 * h_pipe # m3\n",
    "rho = 997 # kg/m3\n",
    "m_water = v_water * rho\n",
    "\n",
    "cold_temp = ((m_water*T1 + m_water*T2 + m_water*T3) / (3*m_water)) - heatloss # C\n",
    "\n",
    "cold_temp\n",
    "\n",
    "print(hot_temp, cold_temp)"
   ]
  },
  {
   "cell_type": "code",
   "execution_count": 133,
   "metadata": {},
   "outputs": [
    {
     "name": "stdout",
     "output_type": "stream",
     "text": [
      "[-14.87293511 -25.30016628]\n"
     ]
    }
   ],
   "source": [
    "T2 = 48.88 + 273.15 # K\n",
    "T3 = 30 + 273.15 # K\n",
    "\n",
    "tpi = T2 # K primary inlet temp, hot, 48 C\n",
    "tpo = T3 # K primary outlet temp, cold, 30 C\n",
    "tso = hot_temp + 273.15 # K secondary outlet temp, hot\n",
    "tsi = cold_temp + 273.15 # K secondary inlet temp, cold\n",
    "\n",
    "# For counter flow:\n",
    "dt_i = tpi - tso # inlet primary and outlet secondary fluid temp difference -- 48-50 = -2\n",
    "dt_o = tpo - tsi # outlet primary and inlet secondary fluid temp difference -- 30-(30/25) = 0 or 5\n",
    "\n",
    "LMT = (dt_o - dt_i) / (np.log(dt_o / dt_i))\n",
    "\n",
    "print(LMT)"
   ]
  },
  {
   "cell_type": "code",
   "execution_count": 134,
   "metadata": {},
   "outputs": [
    {
     "name": "stdout",
     "output_type": "stream",
     "text": [
      "[30.00095969 10.00143954]\n"
     ]
    }
   ],
   "source": [
    "dt_loop =  hot_temp - cold_temp\n",
    "print(dt_loop)\n",
    "Q = 0.03 * c_water * dt_loop"
   ]
  },
  {
   "cell_type": "code",
   "execution_count": 135,
   "metadata": {
    "scrolled": true
   },
   "outputs": [
    {
     "data": {
      "image/png": "[encoded data removed]",
      "text/plain": [
       "<Figure size 432x288 with 1 Axes>"
      ]
     },
     "metadata": {
      "needs_background": "light"
     },
     "output_type": "display_data"
    }
   ],
   "source": [
    "plt.plot(dT_h1, Q)\n",
    "plt.xlabel(\"dT_h1 (C)\")\n",
    "plt.ylabel(\"Q (J)\")\n",
    "plt.title(\"Heat Demand vs. Work Required\")\n",
    "plt.show()"
   ]
  },
  {
   "cell_type": "code",
   "execution_count": 137,
   "metadata": {},
   "outputs": [
    {
     "name": "stdout",
     "output_type": "stream",
     "text": [
      "70 [49.99880038 49.99640115]\n"
     ]
    }
   ],
   "source": [
    "# House Density\n",
    "hot_temp = 70 # C\n",
    "\n",
    "dT_h1 = -20 # C\n",
    "\n",
    "T1 = hot_temp + dT_h1\n",
    "\n",
    "r_pipe = 0.04 # m\n",
    "h_pipe = np.array([20, 60]) # m --> modify length of pipes, add heat losses\n",
    "k = .005  # W/m*K heat loss coefficient\n",
    "soiltemp = 35 #C\n",
    "hl = h_pipe * k * ((hot_temp+273.15) + (T1+273.15) - 2*(soiltemp+273.15)) #W, watts lost\n",
    "heatloss = hl / 4168\n",
    "\n",
    "v_water = 3.1415 * r_pipe**2 * h_pipe # m3\n",
    "rho = 997 # kg/m3\n",
    "m_water = v_water * rho\n",
    "\n",
    "cold_temp = (T1) - heatloss # C\n",
    "\n",
    "cold_temp\n",
    "\n",
    "print(hot_temp, cold_temp)"
   ]
  },
  {
   "cell_type": "code",
   "execution_count": 138,
   "metadata": {},
   "outputs": [
    {
     "name": "stdout",
     "output_type": "stream",
     "text": [
      "[-20.55430383 -20.55308208]\n"
     ]
    }
   ],
   "source": [
    "T2 = 48.88 + 273.15 # K\n",
    "T3 = 30 + 273.15 # K\n",
    "\n",
    "tpi = T2 # K primary inlet temp, hot, 48 C\n",
    "tpo = T3 # K primary outlet temp, cold, 30 C\n",
    "tso = hot_temp + 273.15 # K secondary outlet temp, hot\n",
    "tsi = cold_temp + 273.15 # K secondary inlet temp, cold\n",
    "\n",
    "# For counter flow:\n",
    "dt_i = tpi - tso # inlet primary and outlet secondary fluid temp difference -- 48-50 = -2\n",
    "dt_o = tpo - tsi # outlet primary and inlet secondary fluid temp difference -- 30-(30/25) = 0 or 5\n",
    "\n",
    "LMTD = (dt_o - dt_i) / (np.log(dt_o / dt_i))\n",
    "\n",
    "print(LMTD)"
   ]
  },
  {
   "cell_type": "code",
   "execution_count": 139,
   "metadata": {},
   "outputs": [
    {
     "name": "stdout",
     "output_type": "stream",
     "text": [
      "[20.00119962 20.00359885]\n"
     ]
    }
   ],
   "source": [
    "dt_loop =  hot_temp - cold_temp\n",
    "print(dt_loop)\n",
    "Q = 0.03 * c_water * dt_loop"
   ]
  },
  {
   "cell_type": "code",
   "execution_count": 141,
   "metadata": {
    "scrolled": true
   },
   "outputs": [
    {
     "data": {
      "image/png": "[encoded data removed]",
      "text/plain": [
       "<Figure size 432x288 with 1 Axes>"
      ]
     },
     "metadata": {
      "needs_background": "light"
     },
     "output_type": "display_data"
    }
   ],
   "source": [
    "plt.plot(h_pipe, Q)\n",
    "plt.xlabel(\"pipe length (m)\")\n",
    "plt.ylabel(\"Q (J)\")\n",
    "plt.title(\"Pipe Length vs. Work Required\")\n",
    "plt.ylim((1500, 3500)) \n",
    "plt.show()"
   ]
  },
  {
   "cell_type": "code",
   "execution_count": null,
   "metadata": {},
   "outputs": [],
   "source": []
  },
  {
   "cell_type": "code",
   "execution_count": 110,
   "metadata": {},
   "outputs": [],
   "source": [
    "W12 = ma * (h1 - h2) # W"
   ]
  },
  {
   "cell_type": "code",
   "execution_count": null,
   "metadata": {},
   "outputs": [],
   "source": []
  }
 ],
 "metadata": {
  "kernelspec": {
   "display_name": "Python 3",
   "language": "python",
   "name": "python3"
  },
  "language_info": {
   "codemirror_mode": {
    "name": "ipython",
    "version": 3
   },
   "file_extension": ".py",
   "mimetype": "text/x-python",
   "name": "python",
   "nbconvert_exporter": "python",
   "pygments_lexer": "ipython3",
   "version": "3.6.6"
  }
 },
 "nbformat": 4,
 "nbformat_minor": 4
}
